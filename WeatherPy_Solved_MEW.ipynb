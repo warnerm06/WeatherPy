{
 "cells": [
  {
   "cell_type": "code",
   "execution_count": 1,
   "metadata": {
    "scrolled": true
   },
   "outputs": [],
   "source": [
    "# Dependencies and Setup\n",
    "import matplotlib.pyplot as plt\n",
    "import pandas as pd\n",
    "import numpy as np\n",
    "import requests\n",
    "import time\n",
    "import pprint\n",
    "\n",
    "# Import API key\n",
    "import api_keys\n",
    "\n",
    "# Incorporated citipy to determine city based on latitude and longitude\n",
    "from citipy import citipy\n",
    "\n",
    "# Output File (CSV)\n",
    "output_data_file = \"output_data/cities.csv\"\n",
    "\n",
    "# Range of latitudes and longitudes\n",
    "lat_range = (-90, 90)\n",
    "lng_range = (-180, 180)"
   ]
  },
  {
   "cell_type": "markdown",
   "metadata": {},
   "source": [
    "## Generate Cities List"
   ]
  },
  {
   "cell_type": "code",
   "execution_count": 2,
   "metadata": {},
   "outputs": [
    {
     "name": "stdout",
     "output_type": "stream",
     "text": [
      "613\n"
     ]
    }
   ],
   "source": [
    "# List for holding lat_lngs and cities\n",
    "lat_lngs = []\n",
    "cities = []\n",
    "\n",
    "# Create a set of random lat and lng combinations\n",
    "lats = np.random.uniform(low=-90.000, high=90.000, size=1500)\n",
    "lngs = np.random.uniform(low=-180.000, high=180.000, size=1500)\n",
    "lat_lngs = zip(lats, lngs)\n",
    "\n",
    "# Identify nearest city for each lat, lng combination\n",
    "for lat_lng in lat_lngs:\n",
    "    city = citipy.nearest_city(lat_lng[0], lat_lng[1]).city_name\n",
    "    \n",
    "    # If the city is unique, then add it to a our cities list\n",
    "    if city not in cities:\n",
    "        cities.append(city)\n",
    "# Print the city count to confirm sufficient count\n",
    "print(len(cities))\n"
   ]
  },
  {
   "cell_type": "code",
   "execution_count": 3,
   "metadata": {},
   "outputs": [
    {
     "data": {
      "text/html": [
       "<div>\n",
       "<style scoped>\n",
       "    .dataframe tbody tr th:only-of-type {\n",
       "        vertical-align: middle;\n",
       "    }\n",
       "\n",
       "    .dataframe tbody tr th {\n",
       "        vertical-align: top;\n",
       "    }\n",
       "\n",
       "    .dataframe thead th {\n",
       "        text-align: right;\n",
       "    }\n",
       "</style>\n",
       "<table border=\"1\" class=\"dataframe\">\n",
       "  <thead>\n",
       "    <tr style=\"text-align: right;\">\n",
       "      <th></th>\n",
       "      <th>City</th>\n",
       "      <th>Temperature (F)</th>\n",
       "      <th>Humitidy (%)</th>\n",
       "      <th>Cloudiness (%)</th>\n",
       "      <th>Wind Speed (mph)</th>\n",
       "      <th>Lattitude</th>\n",
       "      <th>Longitude</th>\n",
       "    </tr>\n",
       "  </thead>\n",
       "  <tbody>\n",
       "    <tr>\n",
       "      <th>0</th>\n",
       "      <td>atuona</td>\n",
       "      <td></td>\n",
       "      <td></td>\n",
       "      <td></td>\n",
       "      <td></td>\n",
       "      <td></td>\n",
       "      <td></td>\n",
       "    </tr>\n",
       "    <tr>\n",
       "      <th>1</th>\n",
       "      <td>qaanaaq</td>\n",
       "      <td></td>\n",
       "      <td></td>\n",
       "      <td></td>\n",
       "      <td></td>\n",
       "      <td></td>\n",
       "      <td></td>\n",
       "    </tr>\n",
       "    <tr>\n",
       "      <th>2</th>\n",
       "      <td>bredasdorp</td>\n",
       "      <td></td>\n",
       "      <td></td>\n",
       "      <td></td>\n",
       "      <td></td>\n",
       "      <td></td>\n",
       "      <td></td>\n",
       "    </tr>\n",
       "    <tr>\n",
       "      <th>3</th>\n",
       "      <td>avarua</td>\n",
       "      <td></td>\n",
       "      <td></td>\n",
       "      <td></td>\n",
       "      <td></td>\n",
       "      <td></td>\n",
       "      <td></td>\n",
       "    </tr>\n",
       "    <tr>\n",
       "      <th>4</th>\n",
       "      <td>san patricio</td>\n",
       "      <td></td>\n",
       "      <td></td>\n",
       "      <td></td>\n",
       "      <td></td>\n",
       "      <td></td>\n",
       "      <td></td>\n",
       "    </tr>\n",
       "  </tbody>\n",
       "</table>\n",
       "</div>"
      ],
      "text/plain": [
       "           City Temperature (F) Humitidy (%) Cloudiness (%) Wind Speed (mph)  \\\n",
       "0        atuona                                                                \n",
       "1       qaanaaq                                                                \n",
       "2    bredasdorp                                                                \n",
       "3        avarua                                                                \n",
       "4  san patricio                                                                \n",
       "\n",
       "  Lattitude Longitude  \n",
       "0                      \n",
       "1                      \n",
       "2                      \n",
       "3                      \n",
       "4                      "
      ]
     },
     "execution_count": 3,
     "metadata": {},
     "output_type": "execute_result"
    }
   ],
   "source": [
    "#create a df of lats and longs\n",
    "city_df=pd.DataFrame(cities, columns=['City'])\n",
    "city_df.rename(columns={0:'New'})\n",
    "\n",
    "#add new fields to df\n",
    "def add_fields(x):\n",
    "    x['Temperature (F)']=\"\"\n",
    "    x['Humitidy (%)']=\"\"\n",
    "    x['Cloudiness (%)']=\"\"\n",
    "    x['Wind Speed (mph)']=\"\"\n",
    "    x['Lattitude']=\"\"\n",
    "    x['Longitude']=\"\"\n",
    "\n",
    "add_fields(city_df)#apply function\n",
    "\n",
    "city_df.head()"
   ]
  },
  {
   "cell_type": "markdown",
   "metadata": {},
   "source": [
    "## Perform API Calls"
   ]
  },
  {
   "cell_type": "code",
   "execution_count": 4,
   "metadata": {},
   "outputs": [
    {
     "data": {
      "text/plain": [
       "'http://api.openweathermap.org/data/2.5/weather?units=Imperial&APPID=48c662d8e2fbc87db3c1601e94215d84'"
      ]
     },
     "execution_count": 4,
     "metadata": {},
     "output_type": "execute_result"
    }
   ],
   "source": [
    "\n",
    "\n",
    "# OpenWeatherMap API Key\n",
    "api_key = api_keys.api_key\n",
    "\n",
    "# Starting URL for Weather Map API Call\n",
    "url = \"http://api.openweathermap.org/data/2.5/weather?units=Imperial&APPID=\" + api_key #+f\"&q={city_df['City'][0]}\"\n",
    "url"
   ]
  },
  {
   "cell_type": "code",
   "execution_count": 5,
   "metadata": {},
   "outputs": [
    {
     "name": "stdout",
     "output_type": "stream",
     "text": [
      "missing: 62\n",
      "Start 613\n"
     ]
    }
   ],
   "source": [
    "# response = requests.get(url)\n",
    "# r=response.json()\n",
    "base_url = \"http://api.openweathermap.org/data/2.5/weather?units=Imperial&APPID=\" + api_key\n",
    "missing=0\n",
    "# use iterrows to iterate through pandas dataframe\n",
    "for index, row in city_df.iterrows():\n",
    "    \n",
    "    # get restaurant type from df\n",
    "    city_to_find = row['City']\n",
    "\n",
    "    # assemble url and make API request\n",
    "    #print(f\"Retrieving Results for Index {index}: {city_to_find}.\")\n",
    "    response = requests.get(base_url+f'&q={city_to_find}').json()\n",
    "\n",
    "    try:\n",
    "        #print(response)#(f\"Temp is results['main']['temp'] in row['City'].\")\n",
    "\n",
    "        city_df.loc[index,'Temperature (F)'] = float(response['main']['temp'])\n",
    "        city_df.loc[index,'Lattitude'] = response['coord']['lat']\n",
    "        city_df.loc[index,'Longitude'] = response['coord']['lon']\n",
    "        city_df.loc[index,'Humitidy (%)'] = response['main']['humidity']\n",
    "        city_df.loc[index,'Cloudiness (%)'] = response['clouds']['all']\n",
    "        city_df.loc[index,'Wind Speed (mph)'] = response['wind']['speed']\n",
    "        \n",
    "    except (KeyError, IndexError):\n",
    "        missing +=1\n",
    "print(f'missing: {missing}')\n",
    "print('Start ' +str(len(cities)))"
   ]
  },
  {
   "cell_type": "code",
   "execution_count": 6,
   "metadata": {},
   "outputs": [
    {
     "data": {
      "text/html": [
       "<div>\n",
       "<style scoped>\n",
       "    .dataframe tbody tr th:only-of-type {\n",
       "        vertical-align: middle;\n",
       "    }\n",
       "\n",
       "    .dataframe tbody tr th {\n",
       "        vertical-align: top;\n",
       "    }\n",
       "\n",
       "    .dataframe thead th {\n",
       "        text-align: right;\n",
       "    }\n",
       "</style>\n",
       "<table border=\"1\" class=\"dataframe\">\n",
       "  <thead>\n",
       "    <tr style=\"text-align: right;\">\n",
       "      <th></th>\n",
       "      <th>City</th>\n",
       "      <th>Temperature (F)</th>\n",
       "      <th>Humitidy (%)</th>\n",
       "      <th>Cloudiness (%)</th>\n",
       "      <th>Wind Speed (mph)</th>\n",
       "      <th>Lattitude</th>\n",
       "      <th>Longitude</th>\n",
       "    </tr>\n",
       "  </thead>\n",
       "  <tbody>\n",
       "    <tr>\n",
       "      <th>0</th>\n",
       "      <td>atuona</td>\n",
       "      <td>78.78</td>\n",
       "      <td>100</td>\n",
       "      <td>0</td>\n",
       "      <td>15.46</td>\n",
       "      <td>-9.8</td>\n",
       "      <td>-139.03</td>\n",
       "    </tr>\n",
       "    <tr>\n",
       "      <th>1</th>\n",
       "      <td>qaanaaq</td>\n",
       "      <td>41.34</td>\n",
       "      <td>87</td>\n",
       "      <td>8</td>\n",
       "      <td>1.03</td>\n",
       "      <td>77.48</td>\n",
       "      <td>-69.36</td>\n",
       "    </tr>\n",
       "    <tr>\n",
       "      <th>2</th>\n",
       "      <td>bredasdorp</td>\n",
       "      <td>57.2</td>\n",
       "      <td>87</td>\n",
       "      <td>0</td>\n",
       "      <td>5.82</td>\n",
       "      <td>-34.53</td>\n",
       "      <td>20.04</td>\n",
       "    </tr>\n",
       "    <tr>\n",
       "      <th>3</th>\n",
       "      <td>avarua</td>\n",
       "      <td>73.4</td>\n",
       "      <td>83</td>\n",
       "      <td>90</td>\n",
       "      <td>10.29</td>\n",
       "      <td>-21.21</td>\n",
       "      <td>-159.78</td>\n",
       "    </tr>\n",
       "    <tr>\n",
       "      <th>4</th>\n",
       "      <td>san patricio</td>\n",
       "      <td>66.72</td>\n",
       "      <td>61</td>\n",
       "      <td>80</td>\n",
       "      <td>3.27</td>\n",
       "      <td>-26.98</td>\n",
       "      <td>-56.83</td>\n",
       "    </tr>\n",
       "  </tbody>\n",
       "</table>\n",
       "</div>"
      ],
      "text/plain": [
       "           City Temperature (F) Humitidy (%) Cloudiness (%) Wind Speed (mph)  \\\n",
       "0        atuona           78.78          100              0            15.46   \n",
       "1       qaanaaq           41.34           87              8             1.03   \n",
       "2    bredasdorp            57.2           87              0             5.82   \n",
       "3        avarua            73.4           83             90            10.29   \n",
       "4  san patricio           66.72           61             80             3.27   \n",
       "\n",
       "  Lattitude Longitude  \n",
       "0      -9.8   -139.03  \n",
       "1     77.48    -69.36  \n",
       "2    -34.53     20.04  \n",
       "3    -21.21   -159.78  \n",
       "4    -26.98    -56.83  "
      ]
     },
     "execution_count": 6,
     "metadata": {},
     "output_type": "execute_result"
    }
   ],
   "source": [
    "city_df.head()"
   ]
  },
  {
   "cell_type": "code",
   "execution_count": 7,
   "metadata": {},
   "outputs": [
    {
     "data": {
      "text/plain": [
       "92"
      ]
     },
     "execution_count": 7,
     "metadata": {},
     "output_type": "execute_result"
    }
   ],
   "source": [
    "city_df['Cloudiness (%)'][6]"
   ]
  },
  {
   "cell_type": "code",
   "execution_count": 13,
   "metadata": {},
   "outputs": [
    {
     "data": {
      "text/html": [
       "<div>\n",
       "<style scoped>\n",
       "    .dataframe tbody tr th:only-of-type {\n",
       "        vertical-align: middle;\n",
       "    }\n",
       "\n",
       "    .dataframe tbody tr th {\n",
       "        vertical-align: top;\n",
       "    }\n",
       "\n",
       "    .dataframe thead th {\n",
       "        text-align: right;\n",
       "    }\n",
       "</style>\n",
       "<table border=\"1\" class=\"dataframe\">\n",
       "  <thead>\n",
       "    <tr style=\"text-align: right;\">\n",
       "      <th></th>\n",
       "      <th>City</th>\n",
       "      <th>Temperature (F)</th>\n",
       "      <th>Humitidy (%)</th>\n",
       "      <th>Cloudiness (%)</th>\n",
       "      <th>Wind Speed (mph)</th>\n",
       "      <th>Lattitude</th>\n",
       "      <th>Longitude</th>\n",
       "    </tr>\n",
       "  </thead>\n",
       "  <tbody>\n",
       "    <tr>\n",
       "      <th>0</th>\n",
       "      <td>atuona</td>\n",
       "      <td>78.78</td>\n",
       "      <td>100.0</td>\n",
       "      <td>0.0</td>\n",
       "      <td>15.46</td>\n",
       "      <td>-9.80</td>\n",
       "      <td>-139.03</td>\n",
       "    </tr>\n",
       "    <tr>\n",
       "      <th>1</th>\n",
       "      <td>qaanaaq</td>\n",
       "      <td>41.34</td>\n",
       "      <td>87.0</td>\n",
       "      <td>8.0</td>\n",
       "      <td>1.03</td>\n",
       "      <td>77.48</td>\n",
       "      <td>-69.36</td>\n",
       "    </tr>\n",
       "    <tr>\n",
       "      <th>2</th>\n",
       "      <td>bredasdorp</td>\n",
       "      <td>57.20</td>\n",
       "      <td>87.0</td>\n",
       "      <td>0.0</td>\n",
       "      <td>5.82</td>\n",
       "      <td>-34.53</td>\n",
       "      <td>20.04</td>\n",
       "    </tr>\n",
       "    <tr>\n",
       "      <th>3</th>\n",
       "      <td>avarua</td>\n",
       "      <td>73.40</td>\n",
       "      <td>83.0</td>\n",
       "      <td>90.0</td>\n",
       "      <td>10.29</td>\n",
       "      <td>-21.21</td>\n",
       "      <td>-159.78</td>\n",
       "    </tr>\n",
       "    <tr>\n",
       "      <th>4</th>\n",
       "      <td>san patricio</td>\n",
       "      <td>66.72</td>\n",
       "      <td>61.0</td>\n",
       "      <td>80.0</td>\n",
       "      <td>3.27</td>\n",
       "      <td>-26.98</td>\n",
       "      <td>-56.83</td>\n",
       "    </tr>\n",
       "  </tbody>\n",
       "</table>\n",
       "</div>"
      ],
      "text/plain": [
       "           City  Temperature (F)  Humitidy (%)  Cloudiness (%)  \\\n",
       "0        atuona            78.78         100.0             0.0   \n",
       "1       qaanaaq            41.34          87.0             8.0   \n",
       "2    bredasdorp            57.20          87.0             0.0   \n",
       "3        avarua            73.40          83.0            90.0   \n",
       "4  san patricio            66.72          61.0            80.0   \n",
       "\n",
       "   Wind Speed (mph)  Lattitude  Longitude  \n",
       "0             15.46      -9.80    -139.03  \n",
       "1              1.03      77.48     -69.36  \n",
       "2              5.82     -34.53      20.04  \n",
       "3             10.29     -21.21    -159.78  \n",
       "4              3.27     -26.98     -56.83  "
      ]
     },
     "execution_count": 13,
     "metadata": {},
     "output_type": "execute_result"
    }
   ],
   "source": [
    "city_df['Lattitude'].replace(-33.02, np.nan)\n",
    "city_df.head()"
   ]
  },
  {
   "cell_type": "code",
   "execution_count": 9,
   "metadata": {},
   "outputs": [
    {
     "data": {
      "text/html": [
       "<div>\n",
       "<style scoped>\n",
       "    .dataframe tbody tr th:only-of-type {\n",
       "        vertical-align: middle;\n",
       "    }\n",
       "\n",
       "    .dataframe tbody tr th {\n",
       "        vertical-align: top;\n",
       "    }\n",
       "\n",
       "    .dataframe thead th {\n",
       "        text-align: right;\n",
       "    }\n",
       "</style>\n",
       "<table border=\"1\" class=\"dataframe\">\n",
       "  <thead>\n",
       "    <tr style=\"text-align: right;\">\n",
       "      <th></th>\n",
       "      <th>City</th>\n",
       "      <th>Temperature (F)</th>\n",
       "      <th>Humitidy (%)</th>\n",
       "      <th>Cloudiness (%)</th>\n",
       "      <th>Wind Speed (mph)</th>\n",
       "      <th>Lattitude</th>\n",
       "      <th>Longitude</th>\n",
       "    </tr>\n",
       "  </thead>\n",
       "  <tbody>\n",
       "    <tr>\n",
       "      <th>0</th>\n",
       "      <td>atuona</td>\n",
       "      <td>78.78</td>\n",
       "      <td>100.0</td>\n",
       "      <td>0.0</td>\n",
       "      <td>15.46</td>\n",
       "      <td>-9.80</td>\n",
       "      <td>-139.03</td>\n",
       "    </tr>\n",
       "    <tr>\n",
       "      <th>1</th>\n",
       "      <td>qaanaaq</td>\n",
       "      <td>41.34</td>\n",
       "      <td>87.0</td>\n",
       "      <td>8.0</td>\n",
       "      <td>1.03</td>\n",
       "      <td>77.48</td>\n",
       "      <td>-69.36</td>\n",
       "    </tr>\n",
       "    <tr>\n",
       "      <th>2</th>\n",
       "      <td>bredasdorp</td>\n",
       "      <td>57.20</td>\n",
       "      <td>87.0</td>\n",
       "      <td>0.0</td>\n",
       "      <td>5.82</td>\n",
       "      <td>-34.53</td>\n",
       "      <td>20.04</td>\n",
       "    </tr>\n",
       "    <tr>\n",
       "      <th>3</th>\n",
       "      <td>avarua</td>\n",
       "      <td>73.40</td>\n",
       "      <td>83.0</td>\n",
       "      <td>90.0</td>\n",
       "      <td>10.29</td>\n",
       "      <td>-21.21</td>\n",
       "      <td>-159.78</td>\n",
       "    </tr>\n",
       "    <tr>\n",
       "      <th>4</th>\n",
       "      <td>san patricio</td>\n",
       "      <td>66.72</td>\n",
       "      <td>61.0</td>\n",
       "      <td>80.0</td>\n",
       "      <td>3.27</td>\n",
       "      <td>-26.98</td>\n",
       "      <td>-56.83</td>\n",
       "    </tr>\n",
       "  </tbody>\n",
       "</table>\n",
       "</div>"
      ],
      "text/plain": [
       "           City  Temperature (F)  Humitidy (%)  Cloudiness (%)  \\\n",
       "0        atuona            78.78         100.0             0.0   \n",
       "1       qaanaaq            41.34          87.0             8.0   \n",
       "2    bredasdorp            57.20          87.0             0.0   \n",
       "3        avarua            73.40          83.0            90.0   \n",
       "4  san patricio            66.72          61.0            80.0   \n",
       "\n",
       "   Wind Speed (mph)  Lattitude  Longitude  \n",
       "0             15.46      -9.80    -139.03  \n",
       "1              1.03      77.48     -69.36  \n",
       "2              5.82     -34.53      20.04  \n",
       "3             10.29     -21.21    -159.78  \n",
       "4              3.27     -26.98     -56.83  "
      ]
     },
     "execution_count": 9,
     "metadata": {},
     "output_type": "execute_result"
    }
   ],
   "source": [
    "city_df.replace('',np.nan, inplace=True)\n",
    "city_df.head()"
   ]
  },
  {
   "cell_type": "code",
   "execution_count": 10,
   "metadata": {},
   "outputs": [
    {
     "data": {
      "text/plain": [
       "<matplotlib.collections.PathCollection at 0x1ebcab8ab38>"
      ]
     },
     "execution_count": 10,
     "metadata": {},
     "output_type": "execute_result"
    },
    {
     "data": {
      "image/png": "[encoded data removed]",
      "text/plain": [
       "<Figure size 432x288 with 1 Axes>"
      ]
     },
     "metadata": {},
     "output_type": "display_data"
    }
   ],
   "source": [
    "xax=city_df['Lattitude']\n",
    "yax=city_df['Temperature (F)']\n",
    "plt.scatter(xax, yax)"
   ]
  },
  {
   "cell_type": "code",
   "execution_count": 12,
   "metadata": {},
   "outputs": [],
   "source": [
    "# print(city_df.head())\n",
    "# #city_df.loc[city_df['Cloudiness (%)'] ==44]\n",
    "\n",
    "# city_df['Longitude'].convert_objects(convert_numeric=True)\n",
    "# city_df['Longitude'].apply(pd.to_numeric)\n",
    "# #city_df.loc[city_df['Longitude']>-0.6]\n",
    "\n",
    "# city_df.loc[city_df['Longitude']>90]\n",
    "# city_df['Longitude'].convert_objects\n",
    "# city_df['Longitude'] = pd.to_numeric(city_df['Longitude'])\n",
    "\n",
    "# def convert_to_float(x,y):\n",
    "#     try:\n",
    "#         pd.to_numeric(x[y])\n",
    "#     except:\n",
    "#         next\n",
    "# new_df= city_df.apply(convert_to_float)\n",
    "\n",
    "\n",
    "# city_df[['Lattitude','Longitude']].apply(pd.to_numeric)\n",
    "# city_df.dtypes\n",
    "# #how do i create a function to convert all cols to float AND keep str columns???"
   ]
  },
  {
   "cell_type": "code",
   "execution_count": null,
   "metadata": {},
   "outputs": [],
   "source": []
  }
 ],
 "metadata": {
  "anaconda-cloud": {},
  "kernelspec": {
   "display_name": "Python 3",
   "language": "python",
   "name": "python3"
  },
  "language_info": {
   "codemirror_mode": {
    "name": "ipython",
    "version": 3
   },
   "file_extension": ".py",
   "mimetype": "text/x-python",
   "name": "python",
   "nbconvert_exporter": "python",
   "pygments_lexer": "ipython3",
   "version": "3.6.5"
  }
 },
 "nbformat": 4,
 "nbformat_minor": 2
}
