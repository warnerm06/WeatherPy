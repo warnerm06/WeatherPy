{
 "cells": [
  {
   "cell_type": "code",
   "execution_count": 110,
   "metadata": {
    "scrolled": true
   },
   "outputs": [],
   "source": [
    "# Dependencies and Setup\n",
    "import matplotlib.pyplot as plt\n",
    "import pandas as pd\n",
    "import numpy as np\n",
    "import requests\n",
    "import time\n",
    "import pprint\n",
    "\n",
    "# Import API key\n",
    "import api_keys\n",
    "\n",
    "# Incorporated citipy to determine city based on latitude and longitude\n",
    "from citipy import citipy\n",
    "\n",
    "degree_sign= u'\\N{DEGREE SIGN}'\n",
    "\n",
    "# Output File (CSV)\n",
    "output_data_file = \"output_data/cities.csv\"\n",
    "\n",
    "# Range of latitudes and longitudes\n",
    "lat_range = (-90, 90)\n",
    "lng_range = (-180, 180)\n",
    "\n"
   ]
  },
  {
   "cell_type": "markdown",
   "metadata": {},
   "source": [
    "## Generate Cities List"
   ]
  },
  {
   "cell_type": "code",
   "execution_count": 16,
   "metadata": {},
   "outputs": [
    {
     "name": "stdout",
     "output_type": "stream",
     "text": [
      "92\n"
     ]
    }
   ],
   "source": [
    "# List for holding lat_lngs and cities\n",
    "lat_lngs = []\n",
    "cities = []\n",
    "\n",
    "# Create a set of random lat and lng combinations\n",
    "lats = np.random.uniform(low=-90.000, high=90.000, size=125)\n",
    "lngs = np.random.uniform(low=-180.000, high=180.000, size=125)\n",
    "lat_lngs = zip(lats, lngs)\n",
    "\n",
    "# Identify nearest city for each lat, lng combination\n",
    "for lat_lng in lat_lngs:\n",
    "    city = citipy.nearest_city(lat_lng[0], lat_lng[1]).city_name\n",
    "    \n",
    "    # If the city is unique, then add it to a our cities list\n",
    "    if city not in cities:\n",
    "        cities.append(city)\n",
    "# Print the city count to confirm sufficient count\n",
    "print(len(cities))\n"
   ]
  },
  {
   "cell_type": "code",
   "execution_count": 17,
   "metadata": {},
   "outputs": [],
   "source": [
    "#create a df of cities\n",
    "city_df_blank=pd.DataFrame(cities, columns=['City'])\n",
    "#city_df.rename(columns={0:'New'})\n",
    "\n",
    "#add new fields to df\n",
    "def add_fields(x):\n",
    "    x['Temperature (F)']=\"\"\n",
    "    x['Humitidy (%)']=\"\"\n",
    "    x['Cloudiness (%)']=\"\"\n",
    "    x['Wind Speed (mph)']=\"\"\n",
    "    x['Lattitude']=\"\"\n",
    "    x['Longitude']=\"\"\n",
    "    x['Distance From Equator']=\"\"\n",
    "\n",
    "add_fields(city_df_blank)#apply function\n",
    "\n"
   ]
  },
  {
   "cell_type": "markdown",
   "metadata": {},
   "source": [
    "## Perform API Calls"
   ]
  },
  {
   "cell_type": "code",
   "execution_count": 18,
   "metadata": {},
   "outputs": [
    {
     "data": {
      "text/plain": [
       "'http://api.openweathermap.org/data/2.5/weather?units=Imperial&APPID=48c662d8e2fbc87db3c1601e94215d84'"
      ]
     },
     "execution_count": 18,
     "metadata": {},
     "output_type": "execute_result"
    }
   ],
   "source": [
    "\n",
    "\n",
    "# OpenWeatherMap API Key\n",
    "api_key = api_keys.api_key\n",
    "\n",
    "# Starting URL for Weather Map API Call\n",
    "url = \"http://api.openweathermap.org/data/2.5/weather?units=Imperial&APPID=\" + api_key #+f\"&q={city_df['City'][0]}\"\n",
    "url"
   ]
  },
  {
   "cell_type": "code",
   "execution_count": 19,
   "metadata": {},
   "outputs": [
    {
     "name": "stdout",
     "output_type": "stream",
     "text": [
      "missing: 7\n",
      "Start 92\n"
     ]
    }
   ],
   "source": [
    "city_df_raw=city_df_blank\n",
    "# response = requests.get(url)\n",
    "# r=response.json()\n",
    "base_url = \"http://api.openweathermap.org/data/2.5/weather?units=Imperial&APPID=\" + api_key\n",
    "missing=0\n",
    "# use iterrows to iterate through pandas dataframe\n",
    "for index, row in city_df_raw.iterrows():\n",
    "    \n",
    "    # get restaurant type from df\n",
    "    city_to_find = row['City']\n",
    "\n",
    "    # assemble url and make API request\n",
    "    #print(f\"Retrieving Results for Index {index}: {city_to_find}.\")\n",
    "    response = requests.get(base_url+f'&q={city_to_find}').json()\n",
    "\n",
    "    try:\n",
    "        #print(response)#(f\"Temp is results['main']['temp'] in row['City'].\")\n",
    "\n",
    "        city_df_raw.loc[index,'Temperature (F)'] = float(response['main']['temp'])\n",
    "        city_df_raw.loc[index,'Lattitude'] = response['coord']['lat']\n",
    "        city_df_raw.loc[index,'Longitude'] = response['coord']['lon']\n",
    "        city_df_raw.loc[index,'Humitidy (%)'] = response['main']['humidity']\n",
    "        city_df_raw.loc[index,'Cloudiness (%)'] = response['clouds']['all']\n",
    "        city_df_raw.loc[index,'Wind Speed (mph)'] = response['wind']['speed']\n",
    "        \n",
    "    except (KeyError, IndexError):\n",
    "        missing +=1\n",
    "print(f'missing: {missing}')\n",
    "print('Start ' +str(len(cities)))"
   ]
  },
  {
   "cell_type": "code",
   "execution_count": 25,
   "metadata": {},
   "outputs": [
    {
     "data": {
      "text/html": [
       "<div>\n",
       "<style scoped>\n",
       "    .dataframe tbody tr th:only-of-type {\n",
       "        vertical-align: middle;\n",
       "    }\n",
       "\n",
       "    .dataframe tbody tr th {\n",
       "        vertical-align: top;\n",
       "    }\n",
       "\n",
       "    .dataframe thead th {\n",
       "        text-align: right;\n",
       "    }\n",
       "</style>\n",
       "<table border=\"1\" class=\"dataframe\">\n",
       "  <thead>\n",
       "    <tr style=\"text-align: right;\">\n",
       "      <th></th>\n",
       "      <th>City</th>\n",
       "      <th>Temperature (F)</th>\n",
       "      <th>Humitidy (%)</th>\n",
       "      <th>Cloudiness (%)</th>\n",
       "      <th>Wind Speed (mph)</th>\n",
       "      <th>Lattitude</th>\n",
       "      <th>Longitude</th>\n",
       "      <th>Distance From Equator</th>\n",
       "    </tr>\n",
       "  </thead>\n",
       "  <tbody>\n",
       "    <tr>\n",
       "      <th>1</th>\n",
       "      <td>ayan</td>\n",
       "      <td>72.87</td>\n",
       "      <td>50.0</td>\n",
       "      <td>36.0</td>\n",
       "      <td>3.60</td>\n",
       "      <td>40.67</td>\n",
       "      <td>33.60</td>\n",
       "      <td>40.67</td>\n",
       "    </tr>\n",
       "    <tr>\n",
       "      <th>3</th>\n",
       "      <td>mataura</td>\n",
       "      <td>33.90</td>\n",
       "      <td>99.0</td>\n",
       "      <td>0.0</td>\n",
       "      <td>5.17</td>\n",
       "      <td>-46.19</td>\n",
       "      <td>168.86</td>\n",
       "      <td>46.19</td>\n",
       "    </tr>\n",
       "    <tr>\n",
       "      <th>4</th>\n",
       "      <td>flinders</td>\n",
       "      <td>53.60</td>\n",
       "      <td>62.0</td>\n",
       "      <td>75.0</td>\n",
       "      <td>17.22</td>\n",
       "      <td>-34.58</td>\n",
       "      <td>150.85</td>\n",
       "      <td>34.58</td>\n",
       "    </tr>\n",
       "    <tr>\n",
       "      <th>5</th>\n",
       "      <td>hailey</td>\n",
       "      <td>57.20</td>\n",
       "      <td>44.0</td>\n",
       "      <td>5.0</td>\n",
       "      <td>9.17</td>\n",
       "      <td>43.52</td>\n",
       "      <td>-114.32</td>\n",
       "      <td>43.52</td>\n",
       "    </tr>\n",
       "    <tr>\n",
       "      <th>6</th>\n",
       "      <td>ribeira grande</td>\n",
       "      <td>78.80</td>\n",
       "      <td>65.0</td>\n",
       "      <td>75.0</td>\n",
       "      <td>14.99</td>\n",
       "      <td>38.52</td>\n",
       "      <td>-28.70</td>\n",
       "      <td>38.52</td>\n",
       "    </tr>\n",
       "  </tbody>\n",
       "</table>\n",
       "</div>"
      ],
      "text/plain": [
       "             City  Temperature (F)  Humitidy (%)  Cloudiness (%)  \\\n",
       "1            ayan            72.87          50.0            36.0   \n",
       "3         mataura            33.90          99.0             0.0   \n",
       "4        flinders            53.60          62.0            75.0   \n",
       "5          hailey            57.20          44.0             5.0   \n",
       "6  ribeira grande            78.80          65.0            75.0   \n",
       "\n",
       "   Wind Speed (mph)  Lattitude  Longitude  Distance From Equator  \n",
       "1              3.60      40.67      33.60                  40.67  \n",
       "3              5.17     -46.19     168.86                  46.19  \n",
       "4             17.22     -34.58     150.85                  34.58  \n",
       "5              9.17      43.52    -114.32                  43.52  \n",
       "6             14.99      38.52     -28.70                  38.52  "
      ]
     },
     "execution_count": 25,
     "metadata": {},
     "output_type": "execute_result"
    }
   ],
   "source": [
    "#city_df_raw['Lattitude'][0]\n",
    "city_df_clean=city_df_raw\n",
    "\n",
    "city_df_clean.replace('',np.nan, inplace=True)\n",
    "city_df_clean['Distance From Equator']=abs(0 - city_df_clean['Lattitude'])\n",
    "\n",
    "\n",
    "city_df_clean.head()\n",
    "\n",
    "city_df_wo_nan=city_df_clean.dropna()\n",
    "city_df_wo_nan.head()\n",
    "# city_df_clean"
   ]
  },
  {
   "cell_type": "code",
   "execution_count": 116,
   "metadata": {},
   "outputs": [
    {
     "data": {
      "text/plain": [
       "Text(-2,33,'y=-0.520721x+(83.716319)')"
      ]
     },
     "execution_count": 116,
     "metadata": {},
     "output_type": "execute_result"
    },
    {
     "data": {
      "image/png": "[encoded data removed]",
      "text/plain": [
       "<Figure size 432x288 with 1 Axes>"
      ]
     },
     "metadata": {},
     "output_type": "display_data"
    }
   ],
   "source": [
    "xax=city_df_wo_nan['Distance From Equator']\n",
    "yax=city_df_wo_nan['Temperature (F)']\n",
    "\n",
    "\n",
    "\n",
    "fig1 = plt.figure()  # an empty figure with no axes\n",
    "\n",
    "ax1=fig1.add_subplot(1,1,1)\n",
    "\n",
    "\n",
    "\n",
    "\n",
    "ax1.scatter(xax,yax)\n",
    "# calc the trendline\n",
    "z = np.polyfit(xax, yax, 1)\n",
    "p = np.poly1d(z)\n",
    "ax1.plot(xax,p(xax),\"r--\")\n",
    "# the line equation:\n",
    "equation=\"y=%.6fx+(%.6f)\"%(z[0],z[1])\n",
    "ax1.title.set_text(f\"Distance from Equator({degree_sign}) vs. Temperature\")\n",
    "ax1.set_ylabel(f'Temperature ({degree_sign})')\n",
    "ax1.set_xlabel(f\"Distance from Equator({degree_sign})\")\n",
    "ax1.text(-2,33,equation,bbox=dict(facecolor='white',alpha=0.5))\n",
    "#plt.plot(xax,yax,'o')\n",
    "\n",
    "# b, m = np.polyfit(xax, yax, 1)\n",
    "\n",
    "# plt.plot(xax, yax, '.')\n",
    "# plt.plot(xax, b + m * xax, '-')\n",
    "# plt.show()"
   ]
  },
  {
   "cell_type": "code",
   "execution_count": 8,
   "metadata": {},
   "outputs": [],
   "source": [
    "\n",
    "# print(city_df.head())\n",
    "# #city_df.loc[city_df['Cloudiness (%)'] ==44]\n",
    "\n",
    "# city_df['Longitude'].convert_objects(convert_numeric=True)\n",
    "# city_df['Longitude'].apply(pd.to_numeric)\n",
    "# #city_df.loc[city_df['Longitude']>-0.6]\n",
    "\n",
    "# city_df.loc[city_df['Longitude']>90]\n",
    "# city_df['Longitude'].convert_objects\n",
    "# city_df['Longitude'] = pd.to_numeric(city_df['Longitude'])\n",
    "\n",
    "# def convert_to_float(x,y):\n",
    "#     try:\n",
    "#         pd.to_numeric(x[y])\n",
    "#     except:\n",
    "#         next\n",
    "# new_df= city_df.apply(convert_to_float)\n",
    "\n",
    "\n",
    "# city_df[['Lattitude','Longitude']].apply(pd.to_numeric)\n",
    "# city_df.dtypes\n",
    "# #how do i create a function to convert all cols to float AND keep str columns???"
   ]
  },
  {
   "cell_type": "code",
   "execution_count": null,
   "metadata": {},
   "outputs": [],
   "source": []
  },
  {
   "cell_type": "code",
   "execution_count": 34,
   "metadata": {},
   "outputs": [
    {
     "data": {
      "text/plain": [
       "<Figure size 432x288 with 0 Axes>"
      ]
     },
     "metadata": {},
     "output_type": "display_data"
    },
    {
     "data": {
      "image/png": "[encoded data removed]",
      "text/plain": [
       "<Figure size 432x288 with 4 Axes>"
      ]
     },
     "metadata": {},
     "output_type": "display_data"
    }
   ],
   "source": [
    "fig = plt.figure()  # an empty figure with no axes\n",
    "fig, ax_lst = plt.subplots(2, 2)  # a figure with a 2x2 grid of Axes\n"
   ]
  },
  {
   "cell_type": "code",
   "execution_count": null,
   "metadata": {},
   "outputs": [],
   "source": []
  }
 ],
 "metadata": {
  "anaconda-cloud": {},
  "kernelspec": {
   "display_name": "Python 3",
   "language": "python",
   "name": "python3"
  },
  "language_info": {
   "codemirror_mode": {
    "name": "ipython",
    "version": 3
   },
   "file_extension": ".py",
   "mimetype": "text/x-python",
   "name": "python",
   "nbconvert_exporter": "python",
   "pygments_lexer": "ipython3",
   "version": "3.6.5"
  }
 },
 "nbformat": 4,
 "nbformat_minor": 2
}
