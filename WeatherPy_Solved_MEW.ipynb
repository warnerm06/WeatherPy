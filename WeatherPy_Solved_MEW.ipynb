{
 "cells": [
  {
   "cell_type": "code",
   "execution_count": 1,
   "metadata": {
    "scrolled": true
   },
   "outputs": [],
   "source": [
    "# Dependencies and Setup\n",
    "import matplotlib.pyplot as plt\n",
    "import pandas as pd\n",
    "import numpy as np\n",
    "import requests\n",
    "import time\n",
    "import pprint\n",
    "\n",
    "# Import API key\n",
    "import api_keys\n",
    "\n",
    "# Incorporated citipy to determine city based on latitude and longitude\n",
    "from citipy import citipy\n",
    "\n",
    "# Output File (CSV)\n",
    "output_data_file = \"output_data/cities.csv\"\n",
    "\n",
    "# Range of latitudes and longitudes\n",
    "lat_range = (-90, 90)\n",
    "lng_range = (-180, 180)"
   ]
  },
  {
   "cell_type": "markdown",
   "metadata": {},
   "source": [
    "## Generate Cities List"
   ]
  },
  {
   "cell_type": "code",
   "execution_count": 9,
   "metadata": {},
   "outputs": [
    {
     "name": "stdout",
     "output_type": "stream",
     "text": [
      "15\n"
     ]
    }
   ],
   "source": [
    "# List for holding lat_lngs and cities\n",
    "lat_lngs = []\n",
    "cities = []\n",
    "\n",
    "# Create a set of random lat and lng combinations\n",
    "lats = np.random.uniform(low=-90.000, high=90.000, size=10)\n",
    "lngs = np.random.uniform(low=-180.000, high=180.000, size=10)\n",
    "lat_lngs = zip(lats, lngs)\n",
    "\n",
    "# Identify nearest city for each lat, lng combination\n",
    "for lat_lng in lat_lngs:\n",
    "    city = citipy.nearest_city(lat_lng[0], lat_lng[1]).city_name\n",
    "    \n",
    "    # If the city is unique, then add it to a our cities list\n",
    "    if city not in cities:\n",
    "        cities.append(city)\n",
    "# Print the city count to confirm sufficient count\n",
    "print(len(cities))\n"
   ]
  },
  {
   "cell_type": "code",
   "execution_count": 23,
   "metadata": {},
   "outputs": [
    {
     "data": {
      "text/html": [
       "<div>\n",
       "<style scoped>\n",
       "    .dataframe tbody tr th:only-of-type {\n",
       "        vertical-align: middle;\n",
       "    }\n",
       "\n",
       "    .dataframe tbody tr th {\n",
       "        vertical-align: top;\n",
       "    }\n",
       "\n",
       "    .dataframe thead th {\n",
       "        text-align: right;\n",
       "    }\n",
       "</style>\n",
       "<table border=\"1\" class=\"dataframe\">\n",
       "  <thead>\n",
       "    <tr style=\"text-align: right;\">\n",
       "      <th></th>\n",
       "      <th>City</th>\n",
       "      <th>Temperature (F)</th>\n",
       "      <th>Humitidy (%)</th>\n",
       "      <th>Cloudiness (%)</th>\n",
       "      <th>Wind Speed (mph)</th>\n",
       "      <th>Lattitude</th>\n",
       "      <th>Longitude</th>\n",
       "    </tr>\n",
       "  </thead>\n",
       "  <tbody>\n",
       "    <tr>\n",
       "      <th>0</th>\n",
       "      <td>guia lopes da laguna</td>\n",
       "      <td></td>\n",
       "      <td></td>\n",
       "      <td></td>\n",
       "      <td></td>\n",
       "      <td></td>\n",
       "      <td></td>\n",
       "    </tr>\n",
       "    <tr>\n",
       "      <th>1</th>\n",
       "      <td>hilo</td>\n",
       "      <td></td>\n",
       "      <td></td>\n",
       "      <td></td>\n",
       "      <td></td>\n",
       "      <td></td>\n",
       "      <td></td>\n",
       "    </tr>\n",
       "    <tr>\n",
       "      <th>2</th>\n",
       "      <td>gamba</td>\n",
       "      <td></td>\n",
       "      <td></td>\n",
       "      <td></td>\n",
       "      <td></td>\n",
       "      <td></td>\n",
       "      <td></td>\n",
       "    </tr>\n",
       "    <tr>\n",
       "      <th>3</th>\n",
       "      <td>rikitea</td>\n",
       "      <td></td>\n",
       "      <td></td>\n",
       "      <td></td>\n",
       "      <td></td>\n",
       "      <td></td>\n",
       "      <td></td>\n",
       "    </tr>\n",
       "    <tr>\n",
       "      <th>4</th>\n",
       "      <td>talara</td>\n",
       "      <td></td>\n",
       "      <td></td>\n",
       "      <td></td>\n",
       "      <td></td>\n",
       "      <td></td>\n",
       "      <td></td>\n",
       "    </tr>\n",
       "  </tbody>\n",
       "</table>\n",
       "</div>"
      ],
      "text/plain": [
       "                   City Temperature (F) Humitidy (%) Cloudiness (%)  \\\n",
       "0  guia lopes da laguna                                               \n",
       "1                  hilo                                               \n",
       "2                 gamba                                               \n",
       "3               rikitea                                               \n",
       "4                talara                                               \n",
       "\n",
       "  Wind Speed (mph) Lattitude Longitude  \n",
       "0                                       \n",
       "1                                       \n",
       "2                                       \n",
       "3                                       \n",
       "4                                       "
      ]
     },
     "execution_count": 23,
     "metadata": {},
     "output_type": "execute_result"
    }
   ],
   "source": [
    "#create a df of lats and longs\n",
    "city_df=pd.DataFrame(cities, columns=['City'])\n",
    "city_df.rename(columns={0:'New'})\n",
    "\n",
    "#add new fields to df\n",
    "def add_fields(x):\n",
    "    x['Temperature (F)']=\"\"\n",
    "    x['Humitidy (%)']=\"\"\n",
    "    x['Cloudiness (%)']=\"\"\n",
    "    x['Wind Speed (mph)']=\"\"\n",
    "    x['Lattitude']=\"\"\n",
    "    x['Longitude']=\"\"\n",
    "\n",
    "add_fields(city_df)#apply function\n",
    "\n",
    "city_df.head()"
   ]
  },
  {
   "cell_type": "markdown",
   "metadata": {},
   "source": [
    "## Perform API Calls"
   ]
  },
  {
   "cell_type": "code",
   "execution_count": 11,
   "metadata": {},
   "outputs": [
    {
     "data": {
      "text/plain": [
       "'http://api.openweathermap.org/data/2.5/weather?units=Imperial&APPID=48c662d8e2fbc87db3c1601e94215d84'"
      ]
     },
     "execution_count": 11,
     "metadata": {},
     "output_type": "execute_result"
    }
   ],
   "source": [
    "\n",
    "\n",
    "# OpenWeatherMap API Key\n",
    "api_key = api_keys.api_key\n",
    "\n",
    "# Starting URL for Weather Map API Call\n",
    "url = \"http://api.openweathermap.org/data/2.5/weather?units=Imperial&APPID=\" + api_key #+f\"&q={city_df['City'][0]}\"\n",
    "url"
   ]
  },
  {
   "cell_type": "code",
   "execution_count": 47,
   "metadata": {},
   "outputs": [
    {
     "name": "stdout",
     "output_type": "stream",
     "text": [
      "missing: 1\n",
      "Start 15\n"
     ]
    },
    {
     "data": {
      "text/plain": [
       "City                object\n",
       "Temperature (F)     object\n",
       "Humitidy (%)        object\n",
       "Cloudiness (%)      object\n",
       "Wind Speed (mph)    object\n",
       "Lattitude           object\n",
       "Longitude           object\n",
       "dtype: object"
      ]
     },
     "execution_count": 47,
     "metadata": {},
     "output_type": "execute_result"
    }
   ],
   "source": [
    "# response = requests.get(url)\n",
    "# r=response.json()\n",
    "base_url = \"http://api.openweathermap.org/data/2.5/weather?units=Imperial&APPID=\" + api_key\n",
    "missing=0\n",
    "# use iterrows to iterate through pandas dataframe\n",
    "for index, row in city_df.iterrows():\n",
    "    \n",
    "    # get restaurant type from df\n",
    "    city_to_find = row['City']\n",
    "\n",
    "    # assemble url and make API request\n",
    "    #print(f\"Retrieving Results for Index {index}: {city_to_find}.\")\n",
    "    response = requests.get(base_url+f'&q={city_to_find}').json()\n",
    "\n",
    "    try:\n",
    "        #print(response)#(f\"Temp is results['main']['temp'] in row['City'].\")\n",
    "\n",
    "        city_df.loc[index,'Temperature (F)'] = response['main']['temp']\n",
    "        city_df.loc[index,'Lattitude'] = response['coord']['lat']\n",
    "        city_df.loc[index,'Longitude'] = response['coord']['lon']\n",
    "        city_df.loc[index,'Humitidy (%)'] = response['main']['humidity']\n",
    "        city_df.loc[index,'Cloudiness (%)'] = response['clouds']['all']\n",
    "        city_df.loc[index,'Wind Speed (mph)'] = response['wind']['speed']\n",
    "        \n",
    "    except (KeyError, IndexError):\n",
    "        missing +=1\n",
    "print(f'missing: {missing}')\n",
    "print('Start ' +str(len(cities)))\n",
    "city_df.dtypes"
   ]
  },
  {
   "cell_type": "code",
   "execution_count": 48,
   "metadata": {},
   "outputs": [
    {
     "data": {
      "text/plain": [
       "City                object\n",
       "Temperature (F)     object\n",
       "Humitidy (%)        object\n",
       "Cloudiness (%)      object\n",
       "Wind Speed (mph)    object\n",
       "Lattitude           object\n",
       "Longitude           object\n",
       "dtype: object"
      ]
     },
     "execution_count": 48,
     "metadata": {},
     "output_type": "execute_result"
    }
   ],
   "source": [
    "city_df.dtypes\n"
   ]
  },
  {
   "cell_type": "code",
   "execution_count": 49,
   "metadata": {},
   "outputs": [
    {
     "data": {
      "text/plain": [
       "City                object\n",
       "Temperature (F)     object\n",
       "Humitidy (%)        object\n",
       "Cloudiness (%)      object\n",
       "Wind Speed (mph)    object\n",
       "Lattitude           object\n",
       "Longitude           object\n",
       "dtype: object"
      ]
     },
     "execution_count": 49,
     "metadata": {},
     "output_type": "execute_result"
    }
   ],
   "source": [
    "city_df[['Temperature (F)','Humitidy (%)','Cloudiness (%)','Wind Speed (mph)','Lattitude','Longitude']].apply(pd.to_numeric)\n",
    "city_df.dtypes"
   ]
  },
  {
   "cell_type": "code",
   "execution_count": 50,
   "metadata": {},
   "outputs": [],
   "source": [
    "# xax=city_df['Lattitude']\n",
    "# yax=city_df['Temperature (F)']\n",
    "# plt.scatter(xax, yax)"
   ]
  },
  {
   "cell_type": "code",
   "execution_count": null,
   "metadata": {},
   "outputs": [],
   "source": [
    "#ToDo Collect: Temp (F) from each city, Humidity(%), Cloudiness (%),Wind speed (mph) from each city\n",
    "# Maybe use itterrows???\n",
    "#include a print log (maybe write to txt file)\n",
    "\n",
    "#graph info\n",
    "\n",
    "#save figs\n",
    "\n",
    "#Save df as csv\n",
    "\n",
    "\n",
    "#3 trends and analysis"
   ]
  },
  {
   "cell_type": "code",
   "execution_count": 46,
   "metadata": {},
   "outputs": [
    {
     "data": {
      "text/plain": [
       "City                object\n",
       "Temperature (F)     object\n",
       "Humitidy (%)        object\n",
       "Cloudiness (%)      object\n",
       "Wind Speed (mph)    object\n",
       "Lattitude           object\n",
       "Longitude           object\n",
       "dtype: object"
      ]
     },
     "execution_count": 46,
     "metadata": {},
     "output_type": "execute_result"
    }
   ],
   "source": [
    "#print(city_df.head())\n",
    "#city_df.loc[city_df['Cloudiness (%)'] ==44]\n",
    "#city_df['Longitude'].convert_objects(convert_numeric=True)\n",
    "#city_df['Longitude'].apply(pd.to_numeric)\n",
    "#city_df.loc[city_df['Longitude']>-0.6]\n",
    "\n",
    "#city_df.loc[city_df['Longitude']>90]\n",
    "#city_df['Longitude'].convert_objects\n",
    "#city_df['Longitude'] = pd.to_numeric(city_df['Longitude'])\n",
    "\n",
    "# def convert_to_float(x,y):\n",
    "#     try:\n",
    "#         pd.to_numeric(x[y])\n",
    "#     except:\n",
    "#         next\n",
    "# new_df= city_df.apply(convert_to_float)\n",
    "\n",
    "\n",
    "city_df[['Lattitude','Longitude']].apply(pd.to_numeric)\n",
    "city_df.dtypes\n",
    "#how do i create a function to convert all cols to float AND keep str columns???"
   ]
  },
  {
   "cell_type": "code",
   "execution_count": 44,
   "metadata": {},
   "outputs": [
    {
     "data": {
      "text/plain": [
       "City                object\n",
       "Temperature (F)     object\n",
       "Humitidy (%)        object\n",
       "Cloudiness (%)      object\n",
       "Wind Speed (mph)    object\n",
       "Lattitude           object\n",
       "Longitude           object\n",
       "dtype: object"
      ]
     },
     "execution_count": 44,
     "metadata": {},
     "output_type": "execute_result"
    }
   ],
   "source": [
    "city_df.dtypes\n"
   ]
  },
  {
   "cell_type": "code",
   "execution_count": null,
   "metadata": {},
   "outputs": [],
   "source": [
    "city_df['Longitude'].convert_objects"
   ]
  },
  {
   "cell_type": "code",
   "execution_count": null,
   "metadata": {},
   "outputs": [],
   "source": [
    "city_df.dtypes"
   ]
  },
  {
   "cell_type": "code",
   "execution_count": null,
   "metadata": {},
   "outputs": [],
   "source": []
  }
 ],
 "metadata": {
  "anaconda-cloud": {},
  "kernelspec": {
   "display_name": "Python 3",
   "language": "python",
   "name": "python3"
  },
  "language_info": {
   "codemirror_mode": {
    "name": "ipython",
    "version": 3
   },
   "file_extension": ".py",
   "mimetype": "text/x-python",
   "name": "python",
   "nbconvert_exporter": "python",
   "pygments_lexer": "ipython3",
   "version": "3.6.5"
  }
 },
 "nbformat": 4,
 "nbformat_minor": 2
}
